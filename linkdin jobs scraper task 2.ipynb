{
 "cells": [
  {
   "cell_type": "code",
   "execution_count": 2,
   "id": "14dd2ab3",
   "metadata": {},
   "outputs": [
    {
     "name": "stderr",
     "output_type": "stream",
     "text": [
      "<ipython-input-2-0080ec7548c7>:7: DeprecationWarning: executable_path has been deprecated, please pass in a Service object\n",
      "  driver = webdriver.Chrome(\"/usr/local/bin/chromedriver\")\n"
     ]
    }
   ],
   "source": [
    "#task 2 You will have to scrape 3 things from the job:\n",
    "#1. Job position (Game Designer)\n",
    "#2. Company offering the Job\n",
    "#3. Location of the Job (City or remote)\n",
    "\n",
    "#scraping jobs from linkedin using selenium and chrome driver since it cannot be done using requests lib \n",
    "#and beautifulsoup is also been used for creating object and scraping through the html tag and class\n",
    "#import required \n",
    "from selenium import webdriver\n",
    "from bs4 import BeautifulSoup\n",
    "import time\n",
    "import pandas as pd\n",
    "\n",
    "# Creating a webdriver instance\n",
    "driver = webdriver.Chrome(\"/usr/local/bin/chromedriver\")\n",
    "# This instance will be used to locate job's page on LinkedIn \n",
    "\n",
    "# Opening linkedIn's job page\n",
    "driver.get(\"https://www.linkedin.com/jobs/search/?geoId=102713980&keywords=game%20designer&location=India\")\n",
    "\n",
    "# waiting for the page to load\n",
    "time.sleep(5)\n",
    "\n",
    "\n"
   ]
  },
  {
   "cell_type": "code",
   "execution_count": 4,
   "id": "4d2ed952",
   "metadata": {},
   "outputs": [],
   "source": [
    "#create a BeautifulSoup object to scrape the data \n",
    "#specifying a desired format of “job_src” using the lxml parser - this allows python \n",
    "#to read the various components of the page, rather than treating it as one long string.\n",
    "job_src = driver.page_source\n",
    "\n",
    "soup = BeautifulSoup(job_src, 'lxml')\n",
    "\n"
   ]
  },
  {
   "cell_type": "code",
   "execution_count": 5,
   "id": "5eef6f00",
   "metadata": {},
   "outputs": [
    {
     "name": "stdout",
     "output_type": "stream",
     "text": [
      "['Game Designer', 'Associate Designer', 'Game Designer - 100% Remote working role', 'Game Designer 1', 'Game Designer', 'Game Designer(Slots)', 'Game Designer', 'Kids Game Designer', 'Game Designer II', 'Game Designer (PC or Console)', 'Game Designer', 'Game Designer', 'Game designer', 'Visual Designer', 'Game Designer', 'Game Designer', 'Game Designer', 'Game Designer', 'Toy & Game Designer | Arts & Animation', 'Game Designer', 'Game Designer II', 'Game Designer', 'Game Designer II', 'Graphics Designer']\n"
     ]
    },
    {
     "data": {
      "text/plain": [
       "24"
      ]
     },
     "execution_count": 5,
     "metadata": {},
     "output_type": "execute_result"
    }
   ],
   "source": [
    "#On inspecting the HTML of this page, we will find that each Job Title has the class name “screen-reader-text”\n",
    "#and 'span' html tag .\n",
    "#We will use this class name and html tag to extract the job titles.\n",
    "#then I have created an empty list and then append all the job titles in it/\n",
    "jobs_html = soup.find_all('span', {'class': 'screen-reader-text'})\n",
    "# In case of an error, try changing the XPath.\n",
    "\n",
    "job_titles = []\n",
    "\n",
    "for title in jobs_html:\n",
    "\tjob_titles.append(title.text.strip())\n",
    "\n",
    "print(job_titles)\n",
    "len(job_titles)\n",
    "\n"
   ]
  },
  {
   "cell_type": "code",
   "execution_count": 6,
   "id": "5330c177",
   "metadata": {},
   "outputs": [
    {
     "name": "stdout",
     "output_type": "stream",
     "text": [
      "['Unacademy', 'Walmart Global Tech India', 'Cympl Studios', 'Glu Mobile', 'Buffbaer Pvt Ltd', 'Zynga', 'Reliance Games', 'Photon Tadpole Studios', 'Glu Mobile', 'Tentworks Interactive', 'PerspectAI', 'Flick Games Official', 'Frigate Games', 'IBM', 'GameAnax', 'NokOut Interactive', 'PlayerzPot Media Pvt Ltd', 'Zynga', 'WhiteHat Jr', 'GodSpeed Games', 'EA Mobile', 'GSN Games', 'EA SPORTS', 'Xiaomi India']\n"
     ]
    },
    {
     "data": {
      "text/plain": [
       "24"
      ]
     },
     "execution_count": 6,
     "metadata": {},
     "output_type": "execute_result"
    }
   ],
   "source": [
    "#similarly for scraping company name , it is with 'a' html tag and with class 'hidden-nested-link'. \n",
    "#we have used this for scraping and then finally storing all the companies in list.\n",
    "job_company= soup.find_all('a',class_='hidden-nested-link')\n",
    "job_Companies  = []\n",
    "\n",
    "for company in job_company:\n",
    "\tjob_Companies.append(company.text.strip())\n",
    "\n",
    "print(job_Companies)\n",
    "len(job_Companies)"
   ]
  },
  {
   "cell_type": "code",
   "execution_count": 10,
   "id": "f628bb59",
   "metadata": {},
   "outputs": [],
   "source": [
    "#similarly finding job location with find method and using html 'span ' tag and class 'job-search-card__location'\n",
    "job_location= soup.find('span',class_=\"job-search-card__location\")"
   ]
  },
  {
   "cell_type": "code",
   "execution_count": 17,
   "id": "eaac8f13",
   "metadata": {},
   "outputs": [
    {
     "data": {
      "text/plain": [
       "'Bengaluru, Karnataka, India'"
      ]
     },
     "execution_count": 17,
     "metadata": {},
     "output_type": "execute_result"
    }
   ],
   "source": [
    "job_location.text.strip()"
   ]
  },
  {
   "cell_type": "code",
   "execution_count": 19,
   "id": "a8636c93",
   "metadata": {},
   "outputs": [],
   "source": [
    "#now scpared all the locations of all the jobs with the same html tag and class using find all method.\n",
    "job_locations= soup.find_all('span',class_=\"job-search-card__location\")"
   ]
  },
  {
   "cell_type": "code",
   "execution_count": 16,
   "id": "4fd16509",
   "metadata": {},
   "outputs": [
    {
     "data": {
      "text/plain": [
       "[<span class=\"job-search-card__location\">\n",
       "             Bengaluru, Karnataka, India\n",
       "           </span>,\n",
       " <span class=\"job-search-card__location\">\n",
       "             Bengaluru, Karnataka, India\n",
       "           </span>,\n",
       " <span class=\"job-search-card__location\">\n",
       "             India\n",
       "           </span>,\n",
       " <span class=\"job-search-card__location\">\n",
       "             Hyderabad, Telangana, India\n",
       "           </span>,\n",
       " <span class=\"job-search-card__location\">\n",
       "             Bangalore Urban, Karnataka, India\n",
       "           </span>,\n",
       " <span class=\"job-search-card__location\">\n",
       "             Bengaluru, Karnataka, India\n",
       "           </span>,\n",
       " <span class=\"job-search-card__location\">\n",
       "             Pune, Maharashtra, India\n",
       "           </span>,\n",
       " <span class=\"job-search-card__location\">\n",
       "             India\n",
       "           </span>,\n",
       " <span class=\"job-search-card__location\">\n",
       "             Hyderabad, Telangana, India\n",
       "           </span>,\n",
       " <span class=\"job-search-card__location\">\n",
       "             Bengaluru, Karnataka, India\n",
       "           </span>,\n",
       " <span class=\"job-search-card__location\">\n",
       "             Hyderabad, Telangana, India\n",
       "           </span>,\n",
       " <span class=\"job-search-card__location\">\n",
       "             Hyderabad, Telangana, India\n",
       "           </span>,\n",
       " <span class=\"job-search-card__location\">\n",
       "             Hyderabad, Telangana, India\n",
       "           </span>,\n",
       " <span class=\"job-search-card__location\">\n",
       "             Ahmedabad, Gujarat, India\n",
       "           </span>,\n",
       " <span class=\"job-search-card__location\">\n",
       "             Ahmedabad, Gujarat, India\n",
       "           </span>,\n",
       " <span class=\"job-search-card__location\">\n",
       "             Chennai, Tamil Nadu, India\n",
       "           </span>,\n",
       " <span class=\"job-search-card__location\">\n",
       "             Mumbai, Maharashtra, India\n",
       "           </span>,\n",
       " <span class=\"job-search-card__location\">\n",
       "             Bengaluru, Karnataka, India\n",
       "           </span>,\n",
       " <span class=\"job-search-card__location\">\n",
       "             Bangalore Urban, Karnataka, India\n",
       "           </span>,\n",
       " <span class=\"job-search-card__location\">\n",
       "             Pune, Maharashtra, India\n",
       "           </span>,\n",
       " <span class=\"job-search-card__location\">\n",
       "             Hyderabad, Telangana, India\n",
       "           </span>,\n",
       " <span class=\"job-search-card__location\">\n",
       "             Bengaluru, Karnataka, India\n",
       "           </span>,\n",
       " <span class=\"job-search-card__location\">\n",
       "             Mumbai, Maharashtra, India\n",
       "           </span>,\n",
       " <span class=\"job-search-card__location\">\n",
       "             Hyderabad, Telangana, India\n",
       "           </span>,\n",
       " <span class=\"job-search-card__location\">\n",
       "             Bengaluru, Karnataka, India\n",
       "           </span>]"
      ]
     },
     "execution_count": 16,
     "metadata": {},
     "output_type": "execute_result"
    }
   ],
   "source": [
    "job_locations"
   ]
  },
  {
   "cell_type": "code",
   "execution_count": 24,
   "id": "877c5ca3",
   "metadata": {},
   "outputs": [
    {
     "name": "stdout",
     "output_type": "stream",
     "text": [
      "<span class=\"job-search-card__location\">\n",
      "            Bengaluru, Karnataka, India\n",
      "          </span> <span class=\"job-search-card__location\">\n",
      "            Bengaluru, Karnataka, India\n",
      "          </span> <span class=\"job-search-card__location\">\n",
      "            India\n",
      "          </span> <span class=\"job-search-card__location\">\n",
      "            Hyderabad, Telangana, India\n",
      "          </span> <span class=\"job-search-card__location\">\n",
      "            Bangalore Urban, Karnataka, India\n",
      "          </span> <span class=\"job-search-card__location\">\n",
      "            Bengaluru, Karnataka, India\n",
      "          </span> <span class=\"job-search-card__location\">\n",
      "            Pune, Maharashtra, India\n",
      "          </span> <span class=\"job-search-card__location\">\n",
      "            India\n",
      "          </span> <span class=\"job-search-card__location\">\n",
      "            Hyderabad, Telangana, India\n",
      "          </span> <span class=\"job-search-card__location\">\n",
      "            Bengaluru, Karnataka, India\n",
      "          </span> <span class=\"job-search-card__location\">\n",
      "            Hyderabad, Telangana, India\n",
      "          </span> <span class=\"job-search-card__location\">\n",
      "            Hyderabad, Telangana, India\n",
      "          </span> <span class=\"job-search-card__location\">\n",
      "            Hyderabad, Telangana, India\n",
      "          </span> <span class=\"job-search-card__location\">\n",
      "            Ahmedabad, Gujarat, India\n",
      "          </span> <span class=\"job-search-card__location\">\n",
      "            Ahmedabad, Gujarat, India\n",
      "          </span> <span class=\"job-search-card__location\">\n",
      "            Chennai, Tamil Nadu, India\n",
      "          </span> <span class=\"job-search-card__location\">\n",
      "            Mumbai, Maharashtra, India\n",
      "          </span> <span class=\"job-search-card__location\">\n",
      "            Bengaluru, Karnataka, India\n",
      "          </span> <span class=\"job-search-card__location\">\n",
      "            Bangalore Urban, Karnataka, India\n",
      "          </span> <span class=\"job-search-card__location\">\n",
      "            Pune, Maharashtra, India\n",
      "          </span> <span class=\"job-search-card__location\">\n",
      "            Hyderabad, Telangana, India\n",
      "          </span> <span class=\"job-search-card__location\">\n",
      "            Bengaluru, Karnataka, India\n",
      "          </span> <span class=\"job-search-card__location\">\n",
      "            Mumbai, Maharashtra, India\n",
      "          </span> <span class=\"job-search-card__location\">\n",
      "            Hyderabad, Telangana, India\n",
      "          </span> <span class=\"job-search-card__location\">\n",
      "            Bengaluru, Karnataka, India\n",
      "          </span>\n"
     ]
    }
   ],
   "source": [
    "#coverted list into string \n",
    "listToStr = ' '.join([str(elem) for elem in job_locations])\n",
    "  \n",
    "print(listToStr)"
   ]
  },
  {
   "cell_type": "code",
   "execution_count": 28,
   "id": "fa2fd97d",
   "metadata": {},
   "outputs": [],
   "source": [
    "#removed the unwanted part \n",
    "l= listToStr.replace('</span> <span class=\"job-search-card__location\">','')"
   ]
  },
  {
   "cell_type": "code",
   "execution_count": 29,
   "id": "60e4e0f8",
   "metadata": {},
   "outputs": [],
   "source": [
    "l1= l.replace('<span class=\"job-search-card__location\">\\n','')"
   ]
  },
  {
   "cell_type": "code",
   "execution_count": 31,
   "id": "7df3672c",
   "metadata": {},
   "outputs": [
    {
     "data": {
      "text/plain": [
       "'            Bengaluru, Karnataka, India\\n          \\n            Bengaluru, Karnataka, India\\n          \\n            India\\n          \\n            Hyderabad, Telangana, India\\n          \\n            Bangalore Urban, Karnataka, India\\n          \\n            Bengaluru, Karnataka, India\\n          \\n            Pune, Maharashtra, India\\n          \\n            India\\n          \\n            Hyderabad, Telangana, India\\n          \\n            Bengaluru, Karnataka, India\\n          \\n            Hyderabad, Telangana, India\\n          \\n            Hyderabad, Telangana, India\\n          \\n            Hyderabad, Telangana, India\\n          \\n            Ahmedabad, Gujarat, India\\n          \\n            Ahmedabad, Gujarat, India\\n          \\n            Chennai, Tamil Nadu, India\\n          \\n            Mumbai, Maharashtra, India\\n          \\n            Bengaluru, Karnataka, India\\n          \\n            Bangalore Urban, Karnataka, India\\n          \\n            Pune, Maharashtra, India\\n          \\n            Hyderabad, Telangana, India\\n          \\n            Bengaluru, Karnataka, India\\n          \\n            Mumbai, Maharashtra, India\\n          \\n            Hyderabad, Telangana, India\\n          \\n            Bengaluru, Karnataka, India\\n          </span>'"
      ]
     },
     "execution_count": 31,
     "metadata": {},
     "output_type": "execute_result"
    }
   ],
   "source": [
    "l1"
   ]
  },
  {
   "cell_type": "code",
   "execution_count": 33,
   "id": "ef066212",
   "metadata": {},
   "outputs": [
    {
     "data": {
      "text/plain": [
       "'            Bengaluru, Karnataka, India Bengaluru, Karnataka, India India Hyderabad, Telangana, India Bangalore Urban, Karnataka, India Bengaluru, Karnataka, India Pune, Maharashtra, India India Hyderabad, Telangana, India Bengaluru, Karnataka, India Hyderabad, Telangana, India Hyderabad, Telangana, India Hyderabad, Telangana, India Ahmedabad, Gujarat, India Ahmedabad, Gujarat, India Chennai, Tamil Nadu, India Mumbai, Maharashtra, India Bengaluru, Karnataka, India Bangalore Urban, Karnataka, India Pune, Maharashtra, India Hyderabad, Telangana, India Bengaluru, Karnataka, India Mumbai, Maharashtra, India Hyderabad, Telangana, India Bengaluru, Karnataka, India\\n          </span>'"
      ]
     },
     "execution_count": 33,
     "metadata": {},
     "output_type": "execute_result"
    }
   ],
   "source": [
    "l2= l1.replace('\\n          \\n           ','')\n",
    "l2"
   ]
  },
  {
   "cell_type": "code",
   "execution_count": 34,
   "id": "e2548bb6",
   "metadata": {},
   "outputs": [],
   "source": [
    "l3 = l2.replace('\\n          </span>','')"
   ]
  },
  {
   "cell_type": "code",
   "execution_count": 35,
   "id": "c58e31cd",
   "metadata": {},
   "outputs": [
    {
     "data": {
      "text/plain": [
       "'            Bengaluru, Karnataka, India Bengaluru, Karnataka, India India Hyderabad, Telangana, India Bangalore Urban, Karnataka, India Bengaluru, Karnataka, India Pune, Maharashtra, India India Hyderabad, Telangana, India Bengaluru, Karnataka, India Hyderabad, Telangana, India Hyderabad, Telangana, India Hyderabad, Telangana, India Ahmedabad, Gujarat, India Ahmedabad, Gujarat, India Chennai, Tamil Nadu, India Mumbai, Maharashtra, India Bengaluru, Karnataka, India Bangalore Urban, Karnataka, India Pune, Maharashtra, India Hyderabad, Telangana, India Bengaluru, Karnataka, India Mumbai, Maharashtra, India Hyderabad, Telangana, India Bengaluru, Karnataka, India'"
      ]
     },
     "execution_count": 35,
     "metadata": {},
     "output_type": "execute_result"
    }
   ],
   "source": [
    "l3"
   ]
  },
  {
   "cell_type": "code",
   "execution_count": 40,
   "id": "4af7c41a",
   "metadata": {},
   "outputs": [
    {
     "data": {
      "text/plain": [
       "'Bengaluru, Karnataka, India Bengaluru, Karnataka, India India Hyderabad, Telangana, India Bangalore Urban, Karnataka, India Bengaluru, Karnataka, India Pune, Maharashtra, India India Hyderabad, Telangana, India Bengaluru, Karnataka, India Hyderabad, Telangana, India Hyderabad, Telangana, India Hyderabad, Telangana, India Ahmedabad, Gujarat, India Ahmedabad, Gujarat, India Chennai, Tamil Nadu, India Mumbai, Maharashtra, India Bengaluru, Karnataka, India Bangalore Urban, Karnataka, India Pune, Maharashtra, India Hyderabad, Telangana, India Bengaluru, Karnataka, India Mumbai, Maharashtra, India Hyderabad, Telangana, India Bengaluru, Karnataka, India'"
      ]
     },
     "execution_count": 40,
     "metadata": {},
     "output_type": "execute_result"
    }
   ],
   "source": [
    "l4 = l3.replace('            ','')\n",
    "l4"
   ]
  },
  {
   "cell_type": "code",
   "execution_count": 41,
   "id": "2fa11701",
   "metadata": {},
   "outputs": [],
   "source": [
    "#function to convert string to list\n",
    "def Convert(string):\n",
    "    li = list(string.split(\" \"))\n",
    "    return li"
   ]
  },
  {
   "cell_type": "code",
   "execution_count": 43,
   "id": "a91bcf2a",
   "metadata": {},
   "outputs": [],
   "source": [
    "#converting l4 string to list\n",
    "locations = Convert(l4)"
   ]
  },
  {
   "cell_type": "code",
   "execution_count": 44,
   "id": "914a2e45",
   "metadata": {},
   "outputs": [
    {
     "data": {
      "text/plain": [
       "74"
      ]
     },
     "execution_count": 44,
     "metadata": {},
     "output_type": "execute_result"
    }
   ],
   "source": [
    "len(locations)"
   ]
  },
  {
   "cell_type": "code",
   "execution_count": 45,
   "id": "857d6dc6",
   "metadata": {},
   "outputs": [
    {
     "data": {
      "text/plain": [
       "['Bengaluru,',\n",
       " 'Karnataka,',\n",
       " 'India',\n",
       " 'Bengaluru,',\n",
       " 'Karnataka,',\n",
       " 'India',\n",
       " 'India',\n",
       " 'Hyderabad,',\n",
       " 'Telangana,',\n",
       " 'India',\n",
       " 'Bangalore',\n",
       " 'Urban,',\n",
       " 'Karnataka,',\n",
       " 'India',\n",
       " 'Bengaluru,',\n",
       " 'Karnataka,',\n",
       " 'India',\n",
       " 'Pune,',\n",
       " 'Maharashtra,',\n",
       " 'India',\n",
       " 'India',\n",
       " 'Hyderabad,',\n",
       " 'Telangana,',\n",
       " 'India',\n",
       " 'Bengaluru,',\n",
       " 'Karnataka,',\n",
       " 'India',\n",
       " 'Hyderabad,',\n",
       " 'Telangana,',\n",
       " 'India',\n",
       " 'Hyderabad,',\n",
       " 'Telangana,',\n",
       " 'India',\n",
       " 'Hyderabad,',\n",
       " 'Telangana,',\n",
       " 'India',\n",
       " 'Ahmedabad,',\n",
       " 'Gujarat,',\n",
       " 'India',\n",
       " 'Ahmedabad,',\n",
       " 'Gujarat,',\n",
       " 'India',\n",
       " 'Chennai,',\n",
       " 'Tamil',\n",
       " 'Nadu,',\n",
       " 'India',\n",
       " 'Mumbai,',\n",
       " 'Maharashtra,',\n",
       " 'India',\n",
       " 'Bengaluru,',\n",
       " 'Karnataka,',\n",
       " 'India',\n",
       " 'Bangalore',\n",
       " 'Urban,',\n",
       " 'Karnataka,',\n",
       " 'India',\n",
       " 'Pune,',\n",
       " 'Maharashtra,',\n",
       " 'India',\n",
       " 'Hyderabad,',\n",
       " 'Telangana,',\n",
       " 'India',\n",
       " 'Bengaluru,',\n",
       " 'Karnataka,',\n",
       " 'India',\n",
       " 'Mumbai,',\n",
       " 'Maharashtra,',\n",
       " 'India',\n",
       " 'Hyderabad,',\n",
       " 'Telangana,',\n",
       " 'India',\n",
       " 'Bengaluru,',\n",
       " 'Karnataka,',\n",
       " 'India']"
      ]
     },
     "execution_count": 45,
     "metadata": {},
     "output_type": "execute_result"
    }
   ],
   "source": [
    "locations"
   ]
  },
  {
   "cell_type": "code",
   "execution_count": 46,
   "id": "4f6e4239",
   "metadata": {},
   "outputs": [],
   "source": [
    "#created a data tuple and using zip  function zipped all the list together to create a pandas dataframe.\n",
    "data_tuples = list(zip(job_titles,job_Companies,locations))"
   ]
  },
  {
   "cell_type": "code",
   "execution_count": 47,
   "id": "58bd3a48",
   "metadata": {},
   "outputs": [],
   "source": [
    " # created a dataframe for creating a csv file.\n",
    "df=pd.DataFrame(data_tuples, columns=['job-titles','companies','locations'])"
   ]
  },
  {
   "cell_type": "code",
   "execution_count": 48,
   "id": "b59ebc1d",
   "metadata": {},
   "outputs": [
    {
     "data": {
      "text/html": [
       "<div>\n",
       "<style scoped>\n",
       "    .dataframe tbody tr th:only-of-type {\n",
       "        vertical-align: middle;\n",
       "    }\n",
       "\n",
       "    .dataframe tbody tr th {\n",
       "        vertical-align: top;\n",
       "    }\n",
       "\n",
       "    .dataframe thead th {\n",
       "        text-align: right;\n",
       "    }\n",
       "</style>\n",
       "<table border=\"1\" class=\"dataframe\">\n",
       "  <thead>\n",
       "    <tr style=\"text-align: right;\">\n",
       "      <th></th>\n",
       "      <th>job-titles</th>\n",
       "      <th>companies</th>\n",
       "      <th>locations</th>\n",
       "    </tr>\n",
       "  </thead>\n",
       "  <tbody>\n",
       "    <tr>\n",
       "      <th>0</th>\n",
       "      <td>Game Designer</td>\n",
       "      <td>Unacademy</td>\n",
       "      <td>Bengaluru,</td>\n",
       "    </tr>\n",
       "    <tr>\n",
       "      <th>1</th>\n",
       "      <td>Associate Designer</td>\n",
       "      <td>Walmart Global Tech India</td>\n",
       "      <td>Karnataka,</td>\n",
       "    </tr>\n",
       "    <tr>\n",
       "      <th>2</th>\n",
       "      <td>Game Designer - 100% Remote working role</td>\n",
       "      <td>Cympl Studios</td>\n",
       "      <td>India</td>\n",
       "    </tr>\n",
       "    <tr>\n",
       "      <th>3</th>\n",
       "      <td>Game Designer 1</td>\n",
       "      <td>Glu Mobile</td>\n",
       "      <td>Bengaluru,</td>\n",
       "    </tr>\n",
       "    <tr>\n",
       "      <th>4</th>\n",
       "      <td>Game Designer</td>\n",
       "      <td>Buffbaer Pvt Ltd</td>\n",
       "      <td>Karnataka,</td>\n",
       "    </tr>\n",
       "    <tr>\n",
       "      <th>5</th>\n",
       "      <td>Game Designer(Slots)</td>\n",
       "      <td>Zynga</td>\n",
       "      <td>India</td>\n",
       "    </tr>\n",
       "    <tr>\n",
       "      <th>6</th>\n",
       "      <td>Game Designer</td>\n",
       "      <td>Reliance Games</td>\n",
       "      <td>India</td>\n",
       "    </tr>\n",
       "    <tr>\n",
       "      <th>7</th>\n",
       "      <td>Kids Game Designer</td>\n",
       "      <td>Photon Tadpole Studios</td>\n",
       "      <td>Hyderabad,</td>\n",
       "    </tr>\n",
       "    <tr>\n",
       "      <th>8</th>\n",
       "      <td>Game Designer II</td>\n",
       "      <td>Glu Mobile</td>\n",
       "      <td>Telangana,</td>\n",
       "    </tr>\n",
       "    <tr>\n",
       "      <th>9</th>\n",
       "      <td>Game Designer (PC or Console)</td>\n",
       "      <td>Tentworks Interactive</td>\n",
       "      <td>India</td>\n",
       "    </tr>\n",
       "    <tr>\n",
       "      <th>10</th>\n",
       "      <td>Game Designer</td>\n",
       "      <td>PerspectAI</td>\n",
       "      <td>Bangalore</td>\n",
       "    </tr>\n",
       "    <tr>\n",
       "      <th>11</th>\n",
       "      <td>Game Designer</td>\n",
       "      <td>Flick Games Official</td>\n",
       "      <td>Urban,</td>\n",
       "    </tr>\n",
       "    <tr>\n",
       "      <th>12</th>\n",
       "      <td>Game designer</td>\n",
       "      <td>Frigate Games</td>\n",
       "      <td>Karnataka,</td>\n",
       "    </tr>\n",
       "    <tr>\n",
       "      <th>13</th>\n",
       "      <td>Visual Designer</td>\n",
       "      <td>IBM</td>\n",
       "      <td>India</td>\n",
       "    </tr>\n",
       "    <tr>\n",
       "      <th>14</th>\n",
       "      <td>Game Designer</td>\n",
       "      <td>GameAnax</td>\n",
       "      <td>Bengaluru,</td>\n",
       "    </tr>\n",
       "    <tr>\n",
       "      <th>15</th>\n",
       "      <td>Game Designer</td>\n",
       "      <td>NokOut Interactive</td>\n",
       "      <td>Karnataka,</td>\n",
       "    </tr>\n",
       "    <tr>\n",
       "      <th>16</th>\n",
       "      <td>Game Designer</td>\n",
       "      <td>PlayerzPot Media Pvt Ltd</td>\n",
       "      <td>India</td>\n",
       "    </tr>\n",
       "    <tr>\n",
       "      <th>17</th>\n",
       "      <td>Game Designer</td>\n",
       "      <td>Zynga</td>\n",
       "      <td>Pune,</td>\n",
       "    </tr>\n",
       "    <tr>\n",
       "      <th>18</th>\n",
       "      <td>Toy &amp; Game Designer | Arts &amp; Animation</td>\n",
       "      <td>WhiteHat Jr</td>\n",
       "      <td>Maharashtra,</td>\n",
       "    </tr>\n",
       "    <tr>\n",
       "      <th>19</th>\n",
       "      <td>Game Designer</td>\n",
       "      <td>GodSpeed Games</td>\n",
       "      <td>India</td>\n",
       "    </tr>\n",
       "    <tr>\n",
       "      <th>20</th>\n",
       "      <td>Game Designer II</td>\n",
       "      <td>EA Mobile</td>\n",
       "      <td>India</td>\n",
       "    </tr>\n",
       "    <tr>\n",
       "      <th>21</th>\n",
       "      <td>Game Designer</td>\n",
       "      <td>GSN Games</td>\n",
       "      <td>Hyderabad,</td>\n",
       "    </tr>\n",
       "    <tr>\n",
       "      <th>22</th>\n",
       "      <td>Game Designer II</td>\n",
       "      <td>EA SPORTS</td>\n",
       "      <td>Telangana,</td>\n",
       "    </tr>\n",
       "    <tr>\n",
       "      <th>23</th>\n",
       "      <td>Graphics Designer</td>\n",
       "      <td>Xiaomi India</td>\n",
       "      <td>India</td>\n",
       "    </tr>\n",
       "  </tbody>\n",
       "</table>\n",
       "</div>"
      ],
      "text/plain": [
       "                                  job-titles                  companies  \\\n",
       "0                              Game Designer                  Unacademy   \n",
       "1                         Associate Designer  Walmart Global Tech India   \n",
       "2   Game Designer - 100% Remote working role              Cympl Studios   \n",
       "3                            Game Designer 1                 Glu Mobile   \n",
       "4                              Game Designer           Buffbaer Pvt Ltd   \n",
       "5                       Game Designer(Slots)                      Zynga   \n",
       "6                              Game Designer             Reliance Games   \n",
       "7                         Kids Game Designer     Photon Tadpole Studios   \n",
       "8                           Game Designer II                 Glu Mobile   \n",
       "9              Game Designer (PC or Console)      Tentworks Interactive   \n",
       "10                             Game Designer                 PerspectAI   \n",
       "11                             Game Designer       Flick Games Official   \n",
       "12                             Game designer              Frigate Games   \n",
       "13                           Visual Designer                        IBM   \n",
       "14                             Game Designer                   GameAnax   \n",
       "15                             Game Designer         NokOut Interactive   \n",
       "16                             Game Designer   PlayerzPot Media Pvt Ltd   \n",
       "17                             Game Designer                      Zynga   \n",
       "18    Toy & Game Designer | Arts & Animation                WhiteHat Jr   \n",
       "19                             Game Designer             GodSpeed Games   \n",
       "20                          Game Designer II                  EA Mobile   \n",
       "21                             Game Designer                  GSN Games   \n",
       "22                          Game Designer II                  EA SPORTS   \n",
       "23                         Graphics Designer               Xiaomi India   \n",
       "\n",
       "       locations  \n",
       "0     Bengaluru,  \n",
       "1     Karnataka,  \n",
       "2          India  \n",
       "3     Bengaluru,  \n",
       "4     Karnataka,  \n",
       "5          India  \n",
       "6          India  \n",
       "7     Hyderabad,  \n",
       "8     Telangana,  \n",
       "9          India  \n",
       "10     Bangalore  \n",
       "11        Urban,  \n",
       "12    Karnataka,  \n",
       "13         India  \n",
       "14    Bengaluru,  \n",
       "15    Karnataka,  \n",
       "16         India  \n",
       "17         Pune,  \n",
       "18  Maharashtra,  \n",
       "19         India  \n",
       "20         India  \n",
       "21    Hyderabad,  \n",
       "22    Telangana,  \n",
       "23         India  "
      ]
     },
     "execution_count": 48,
     "metadata": {},
     "output_type": "execute_result"
    }
   ],
   "source": [
    "df"
   ]
  },
  {
   "cell_type": "code",
   "execution_count": 49,
   "id": "f7a5d6dc",
   "metadata": {},
   "outputs": [],
   "source": [
    "#stored the dataframe into a csv file\n",
    "df.to_csv(r'linkdin jobs.csv')"
   ]
  },
  {
   "cell_type": "code",
   "execution_count": null,
   "id": "14e950b3",
   "metadata": {},
   "outputs": [],
   "source": []
  }
 ],
 "metadata": {
  "kernelspec": {
   "display_name": "Python 3",
   "language": "python",
   "name": "python3"
  },
  "language_info": {
   "codemirror_mode": {
    "name": "ipython",
    "version": 3
   },
   "file_extension": ".py",
   "mimetype": "text/x-python",
   "name": "python",
   "nbconvert_exporter": "python",
   "pygments_lexer": "ipython3",
   "version": "3.8.8"
  }
 },
 "nbformat": 4,
 "nbformat_minor": 5
}
