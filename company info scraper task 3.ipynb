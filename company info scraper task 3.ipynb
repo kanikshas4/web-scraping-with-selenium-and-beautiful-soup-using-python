{
 "cells": [
  {
   "cell_type": "code",
   "execution_count": 5,
   "id": "12ef4ff7",
   "metadata": {},
   "outputs": [
    {
     "name": "stderr",
     "output_type": "stream",
     "text": [
      "<ipython-input-5-2f90024cf007>:6: DeprecationWarning: executable_path has been deprecated, please pass in a Service object\n",
      "  driver = webdriver.Chrome(\"/usr/local/bin/chromedriver\")\n"
     ]
    }
   ],
   "source": [
    "# task 3 Then you have to scrape the companies page from LinkedIn. Details you have to scrape are :- \n",
    "#Companies Description\n",
    "#Where is it Located\n",
    "#Number of Employees\n",
    "\n",
    "from selenium import webdriver\n",
    "from bs4 import BeautifulSoup\n",
    "import time\n",
    "\n",
    "# Creating a webdriver instance\n",
    "driver = webdriver.Chrome(\"/usr/local/bin/chromedriver\")\n",
    "\n",
    "driver.get(\"https://www.linkedin.com/company/buffbaer/about/\")\n",
    "\n",
    "# waiting for the page to load\n",
    "time.sleep(5)"
   ]
  },
  {
   "cell_type": "code",
   "execution_count": 6,
   "id": "edcf90ba",
   "metadata": {},
   "outputs": [],
   "source": [
    "##create a BeautifulSoup object to scrape the data \n",
    "#specifying a desired format of “job_src” using the lxml parser - this allows python \n",
    "#to read the various components of the page, rather than treating it as one long string.\n",
    "job_src = driver.page_source\n",
    "\n",
    "soup = BeautifulSoup(job_src, 'lxml')"
   ]
  },
  {
   "cell_type": "code",
   "execution_count": 10,
   "id": "df6fe6f1",
   "metadata": {},
   "outputs": [
    {
     "data": {
      "text/plain": [
       "'An Independent game development company working on visual novels and interactive fiction'"
      ]
     },
     "execution_count": 10,
     "metadata": {},
     "output_type": "execute_result"
    }
   ],
   "source": [
    "#scarping discription with 'p' html tag and class\n",
    "discription = soup.find('p',class_=\"break-words white-space-pre-wrap mb5 text-body-small t-black--light\")\n",
    "discription.text.strip()"
   ]
  },
  {
   "cell_type": "code",
   "execution_count": 14,
   "id": "bfc5987c",
   "metadata": {},
   "outputs": [
    {
     "data": {
      "text/plain": [
       "'2-10 employees'"
      ]
     },
     "execution_count": 14,
     "metadata": {},
     "output_type": "execute_result"
    }
   ],
   "source": [
    "#scraping number of employees using 'dd' html tag and class \n",
    "employee = soup.find('dd',class_=\"text-body-small t-black--light mb1\")\n",
    "employee.text.strip()"
   ]
  },
  {
   "cell_type": "code",
   "execution_count": 21,
   "id": "85e1aa85",
   "metadata": {},
   "outputs": [
    {
     "data": {
      "text/plain": [
       "'Thrissur, Kerala'"
      ]
     },
     "execution_count": 21,
     "metadata": {},
     "output_type": "execute_result"
    }
   ],
   "source": [
    "#scraping location with 'div' tag and class\n",
    "location = soup.find('div',class_=\"inline-block\")\n",
    "l= location.text.strip()\n",
    "l.replace('\\n      \\n\\n\\n          1,020 followers','')"
   ]
  },
  {
   "cell_type": "code",
   "execution_count": null,
   "id": "a20d09c1",
   "metadata": {},
   "outputs": [],
   "source": []
  }
 ],
 "metadata": {
  "kernelspec": {
   "display_name": "Python 3",
   "language": "python",
   "name": "python3"
  },
  "language_info": {
   "codemirror_mode": {
    "name": "ipython",
    "version": 3
   },
   "file_extension": ".py",
   "mimetype": "text/x-python",
   "name": "python",
   "nbconvert_exporter": "python",
   "pygments_lexer": "ipython3",
   "version": "3.8.8"
  }
 },
 "nbformat": 4,
 "nbformat_minor": 5
}
