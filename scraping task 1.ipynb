{
 "cells": [
  {
   "cell_type": "code",
   "execution_count": 27,
   "id": "4fdf7394",
   "metadata": {},
   "outputs": [],
   "source": [
    "#task 1 \n",
    "#Go to careerguide.com (or any other website of your choice where you can find job types). Scrape Job types from there. Subcategories divided by Categories.\n",
    "#For eg:(Education->Tutor, Design and Art->Architect)\n",
    "\n",
    "#importing all the lib\n",
    "import requests\n",
    "import bs4\n",
    "from bs4 import BeautifulSoup\n",
    "import pandas as pd\n"
   ]
  },
  {
   "cell_type": "code",
   "execution_count": 28,
   "id": "2d93f6c4",
   "metadata": {},
   "outputs": [],
   "source": [
    "#page url\n",
    "url = ('https://www.careerguide.com/career-options')"
   ]
  },
  {
   "cell_type": "code",
   "execution_count": 29,
   "id": "e927f64e",
   "metadata": {},
   "outputs": [],
   "source": [
    "#constructing a request of the mentioned url above:\n",
    "page = requests.get(url)"
   ]
  },
  {
   "cell_type": "code",
   "execution_count": 30,
   "id": "7ab54db0",
   "metadata": {},
   "outputs": [],
   "source": [
    "#specifying a desired format of “page” using the html parser - this allows python \n",
    "#to read the various components of the page, rather than treating it as one long string.\n",
    "soup = BeautifulSoup( page.text, \"html.parser\")"
   ]
  },
  {
   "cell_type": "code",
   "execution_count": 41,
   "id": "5ae73d8b",
   "metadata": {},
   "outputs": [],
   "source": [
    "# creating an object 'job_type_IT' and using 'find' method, \n",
    "#finding inside 'soup' where the complete parsed page is saved using 'a'(anchor tag in html) \n",
    "#and the 'title' seen using inspect option in chrome browser (explained in video)\n",
    "job_type_IT = soup.find('a', title ='Information Technology / Software')"
   ]
  },
  {
   "cell_type": "code",
   "execution_count": 44,
   "id": "1c7cd17e",
   "metadata": {},
   "outputs": [
    {
     "name": "stdout",
     "output_type": "stream",
     "text": [
      "Information Technology / Software\n"
     ]
    }
   ],
   "source": [
    "#printing out the result and just Displaying the text and not other tags and html format (by striping that part)\n",
    "print(job_type_IT.text.strip())"
   ]
  },
  {
   "cell_type": "code",
   "execution_count": 60,
   "id": "5d60e60f",
   "metadata": {},
   "outputs": [
    {
     "data": {
      "text/plain": [
       "'Game Designer'"
      ]
     },
     "execution_count": 60,
     "metadata": {},
     "output_type": "execute_result"
    }
   ],
   "source": [
    "#scaped job sub categories by html 'a' tag and title.\n",
    "job1= soup.find('a',title='Game Designer').text.strip()\n",
    "job1"
   ]
  },
  {
   "cell_type": "code",
   "execution_count": 61,
   "id": "86c8c29f",
   "metadata": {},
   "outputs": [
    {
     "data": {
      "text/plain": [
       "'UX - UI Designer'"
      ]
     },
     "execution_count": 61,
     "metadata": {},
     "output_type": "execute_result"
    }
   ],
   "source": [
    "job2= soup.find('a',title='UX - UI Designer').text.strip()\n",
    "job2"
   ]
  },
  {
   "cell_type": "code",
   "execution_count": 62,
   "id": "7de13f27",
   "metadata": {},
   "outputs": [
    {
     "data": {
      "text/plain": [
       "'Data scientist'"
      ]
     },
     "execution_count": 62,
     "metadata": {},
     "output_type": "execute_result"
    }
   ],
   "source": [
    "job3= soup.find('a',title='Data scientist').text.strip()\n",
    "job3"
   ]
  },
  {
   "cell_type": "code",
   "execution_count": 63,
   "id": "74d2cd0e",
   "metadata": {},
   "outputs": [],
   "source": [
    "#storing these value into a list\n",
    "job_Subcategories =[]\n",
    "job_Subcategories.append(job1)\n",
    "job_Subcategories.append(job2)\n",
    "job_Subcategories.append(job3)"
   ]
  },
  {
   "cell_type": "code",
   "execution_count": 64,
   "id": "60b873f0",
   "metadata": {},
   "outputs": [
    {
     "data": {
      "text/plain": [
       "['Game Designer', 'UX - UI Designer', 'Data scientist']"
      ]
     },
     "execution_count": 64,
     "metadata": {},
     "output_type": "execute_result"
    }
   ],
   "source": [
    "\n",
    "job_Subcategories"
   ]
  },
  {
   "cell_type": "code",
   "execution_count": null,
   "id": "c2bb810f",
   "metadata": {},
   "outputs": [],
   "source": []
  }
 ],
 "metadata": {
  "kernelspec": {
   "display_name": "Python 3",
   "language": "python",
   "name": "python3"
  },
  "language_info": {
   "codemirror_mode": {
    "name": "ipython",
    "version": 3
   },
   "file_extension": ".py",
   "mimetype": "text/x-python",
   "name": "python",
   "nbconvert_exporter": "python",
   "pygments_lexer": "ipython3",
   "version": "3.8.8"
  }
 },
 "nbformat": 4,
 "nbformat_minor": 5
}
